{
 "cells": [
  {
   "cell_type": "markdown",
   "metadata": {
    "colab_type": "text",
    "id": "_9zgu1J6_oCm"
   },
   "source": [
    "Welcome \n",
    "Intro\n",
    "\n",
    "What are we doing today\n",
    "\n",
    "GGA + LifX"
   ]
  },
  {
   "cell_type": "code",
   "execution_count": null,
   "metadata": {
    "colab": {},
    "colab_type": "code",
    "collapsed": true,
    "id": "g7wcL1IhM84s"
   },
   "outputs": [],
   "source": [
    "# !pip install lifxlan"
   ]
  },
  {
   "cell_type": "code",
   "execution_count": 1,
   "metadata": {
    "colab": {},
    "colab_type": "code",
    "id": "a0HG_9TOQUzT"
   },
   "outputs": [],
   "source": [
    "from lifxlan import LifxLAN\n",
    "from lifxlan import RED,ORANGE,YELLOW,GREEN,CYAN,BLUE,PURPLE,PINK,WHITE,COLD_WHITE,WARM_WHITE,GOLD\n",
    "from time import sleep"
   ]
  },
  {
   "cell_type": "markdown",
   "metadata": {
    "colab_type": "text",
    "id": "4qvPurCjAD1z"
   },
   "source": [
    "# <span style=\"color:purple\">How to use a Jupyter Notebook</span>"
   ]
  },
  {
   "cell_type": "code",
   "execution_count": null,
   "metadata": {
    "colab": {
     "base_uri": "https://localhost:8080/",
     "height": 34
    },
    "colab_type": "code",
    "collapsed": true,
    "id": "74p7-dIkARHF",
    "outputId": "5efa6cda-4447-468c-dd2d-86a674b53015"
   },
   "outputs": [],
   "source": [
    "print(\"Hello world\")"
   ]
  },
  {
   "cell_type": "code",
   "execution_count": null,
   "metadata": {
    "colab": {
     "base_uri": "https://localhost:8080/",
     "height": 164
    },
    "colab_type": "code",
    "collapsed": true,
    "id": "ie-S31xMAo_6",
    "outputId": "badfd129-ab5f-486e-833f-5285a332bda7"
   },
   "outputs": [],
   "source": [
    "print(something)"
   ]
  },
  {
   "cell_type": "code",
   "execution_count": null,
   "metadata": {
    "colab": {
     "base_uri": "https://localhost:8080/",
     "height": 34
    },
    "colab_type": "code",
    "collapsed": true,
    "id": "3wxfTivYArrj",
    "outputId": "7adf70f4-3e4f-4a37-92df-94c747cbe969"
   },
   "outputs": [],
   "source": [
    "print(7)"
   ]
  },
  {
   "cell_type": "code",
   "execution_count": null,
   "metadata": {
    "colab": {
     "base_uri": "https://localhost:8080/",
     "height": 164
    },
    "colab_type": "code",
    "collapsed": true,
    "id": "aqU6cAwBAWu5",
    "outputId": "31bb7e9d-a641-44f6-87c9-b5f1db0a457b"
   },
   "outputs": [],
   "source": [
    "3 + 'this'"
   ]
  },
  {
   "cell_type": "code",
   "execution_count": null,
   "metadata": {
    "colab": {
     "base_uri": "https://localhost:8080/",
     "height": 164
    },
    "colab_type": "code",
    "collapsed": true,
    "id": "kPRhvA31AbD0",
    "outputId": "6ce36875-c805-469f-8564-7b68031e1fb9"
   },
   "outputs": [],
   "source": [
    "[5,12,300] + 20"
   ]
  },
  {
   "cell_type": "code",
   "execution_count": null,
   "metadata": {
    "colab": {
     "base_uri": "https://localhost:8080/",
     "height": 164
    },
    "colab_type": "code",
    "collapsed": true,
    "id": "4B42iAT0AmhK",
    "outputId": "48003bab-b987-4805-c570-2cdb957bf643"
   },
   "outputs": [],
   "source": [
    "this + that"
   ]
  },
  {
   "cell_type": "markdown",
   "metadata": {
    "colab": {},
    "colab_type": "code",
    "id": "ZoycVLR1AxZk"
   },
   "source": [
    "#### <span style=\"color:purple\">Try a couple more things to get comfortable with the notebook</span>"
   ]
  },
  {
   "cell_type": "code",
   "execution_count": null,
   "metadata": {
    "collapsed": true
   },
   "outputs": [],
   "source": []
  },
  {
   "cell_type": "code",
   "execution_count": null,
   "metadata": {
    "collapsed": true
   },
   "outputs": [],
   "source": []
  },
  {
   "cell_type": "code",
   "execution_count": null,
   "metadata": {
    "collapsed": true
   },
   "outputs": [],
   "source": []
  },
  {
   "cell_type": "markdown",
   "metadata": {
    "colab_type": "text",
    "id": "WhY2oNfuAznz"
   },
   "source": [
    "***\n",
    "# <span style=\"color:purple\">Variables and types</span>\n",
    "\n",
    "<span style=\"color:purple\">We define the variables <b>a</b> and <b>b</b>. Variables take <b>values</b> of certain <b>types</b>. We will see: integers, strings, and lists.</span>"
   ]
  },
  {
   "cell_type": "code",
   "execution_count": null,
   "metadata": {
    "colab": {
     "base_uri": "https://localhost:8080/",
     "height": 34
    },
    "colab_type": "code",
    "collapsed": true,
    "id": "5D7tAXepA2vk",
    "outputId": "e0c0b6cd-ee54-4ed5-ab79-461fbd160062"
   },
   "outputs": [],
   "source": [
    "a = 4\n",
    "b = 10\n",
    "a+b"
   ]
  },
  {
   "cell_type": "code",
   "execution_count": null,
   "metadata": {
    "colab": {
     "base_uri": "https://localhost:8080/",
     "height": 164
    },
    "colab_type": "code",
    "collapsed": true,
    "id": "qtt7vF3MA7Fs",
    "outputId": "36731f19-7c79-4e4c-dab7-9726e43686c1"
   },
   "outputs": [],
   "source": [
    "a + c"
   ]
  },
  {
   "cell_type": "markdown",
   "metadata": {},
   "source": [
    "<span style=\"color:purple\">We define a list and access the *0th* item</span>"
   ]
  },
  {
   "cell_type": "code",
   "execution_count": null,
   "metadata": {
    "collapsed": true
   },
   "outputs": [],
   "source": [
    "w = [5,9,21]\n",
    "w[0]"
   ]
  },
  {
   "cell_type": "code",
   "execution_count": null,
   "metadata": {
    "collapsed": true
   },
   "outputs": [],
   "source": [
    "w[3]"
   ]
  },
  {
   "cell_type": "code",
   "execution_count": null,
   "metadata": {
    "collapsed": true
   },
   "outputs": [],
   "source": [
    "first_name = \"Gala\"\n",
    "last_name = \"Camacho\"\n",
    "first_name + last_name"
   ]
  },
  {
   "cell_type": "code",
   "execution_count": null,
   "metadata": {
    "collapsed": true
   },
   "outputs": [],
   "source": [
    "first_name - last_name"
   ]
  },
  {
   "cell_type": "markdown",
   "metadata": {},
   "source": [
    "#### <span style=\"color:purple\">Try a couple more things, like </span>\n",
    "* Creating your own lists\n",
    "* Adding two lists\n",
    "* Subtracting two lists\n",
    "* Multiplying lists??"
   ]
  },
  {
   "cell_type": "code",
   "execution_count": null,
   "metadata": {
    "collapsed": true
   },
   "outputs": [],
   "source": []
  },
  {
   "cell_type": "code",
   "execution_count": null,
   "metadata": {
    "collapsed": true
   },
   "outputs": [],
   "source": []
  },
  {
   "cell_type": "code",
   "execution_count": null,
   "metadata": {
    "collapsed": true
   },
   "outputs": [],
   "source": []
  },
  {
   "cell_type": "markdown",
   "metadata": {},
   "source": [
    "***\n",
    "# <span style=\"color:purple\">Manipulating the lightbulbs</span>"
   ]
  },
  {
   "cell_type": "markdown",
   "metadata": {
    "colab_type": "text",
    "id": "ANwHX0sKQYa4"
   },
   "source": [
    "***\n",
    "## <span style=\"color:purple\">Discover the lightbulbs</span>"
   ]
  },
  {
   "cell_type": "code",
   "execution_count": null,
   "metadata": {
    "colab": {
     "base_uri": "https://localhost:8080/",
     "height": 34
    },
    "colab_type": "code",
    "collapsed": true,
    "id": "ZlMblB3NBAum",
    "outputId": "d562590a-9c69-4b63-e588-7607093fe00e"
   },
   "outputs": [],
   "source": [
    "lights = LifxLAN().get_lights()\n",
    "print(lights)"
   ]
  },
  {
   "cell_type": "markdown",
   "metadata": {},
   "source": [
    "<span style=\"color:purple\">Identify and modify your lightbulb</span>"
   ]
  },
  {
   "cell_type": "code",
   "execution_count": null,
   "metadata": {
    "collapsed": true
   },
   "outputs": [],
   "source": [
    "my_bulb_name = \"name_goes_here\""
   ]
  },
  {
   "cell_type": "code",
   "execution_count": null,
   "metadata": {
    "colab": {},
    "colab_type": "code",
    "collapsed": true,
    "id": "WboSmJ1zQ84s"
   },
   "outputs": [],
   "source": [
    "bulb = LifxLAN().get_device_by_name(my_bulb_name)"
   ]
  },
  {
   "cell_type": "markdown",
   "metadata": {},
   "source": [
    "***\n",
    "## <span style=\"color:purple\">On/Off</span>"
   ]
  },
  {
   "cell_type": "code",
   "execution_count": null,
   "metadata": {
    "collapsed": true
   },
   "outputs": [],
   "source": [
    "bulb.get_power()"
   ]
  },
  {
   "cell_type": "code",
   "execution_count": null,
   "metadata": {
    "collapsed": true
   },
   "outputs": [],
   "source": [
    "bulb.set_power(0)"
   ]
  },
  {
   "cell_type": "code",
   "execution_count": null,
   "metadata": {
    "collapsed": true
   },
   "outputs": [],
   "source": [
    "bulb.set_power(1, duration=1000)"
   ]
  },
  {
   "cell_type": "markdown",
   "metadata": {},
   "source": [
    "#### <span style=\"color:purple\">Try turning it on and off with different durations.</span>"
   ]
  },
  {
   "cell_type": "code",
   "execution_count": null,
   "metadata": {
    "collapsed": true
   },
   "outputs": [],
   "source": []
  },
  {
   "cell_type": "code",
   "execution_count": null,
   "metadata": {
    "collapsed": true
   },
   "outputs": [],
   "source": []
  },
  {
   "cell_type": "markdown",
   "metadata": {},
   "source": [
    "***\n",
    "## <span style=\"color:purple\">Colour</span>\n",
    "\n",
    "Color on the lightbulb is set using a *list* of *size* 4, with each value in the *list* a number between 0 and 65535.\n",
    "\n",
    "The meaning of this *list* is:\n",
    "**[*hue*, *saturation*, *brightness*, *temperature*]**\n",
    "\n",
    "---------------\n",
    "\n",
    "We understand this as: \n",
    "\n",
    "***hue*** (0th position): the color of the rainbow, from red through all the colors and back to red\n",
    "\n",
    "***saturation*** (1st position): the richness of the *hue*, from barely any color to a super dense color\n",
    "\n",
    "***brightness*** (2nd position): well... the brightess of the light, from dark to super bright\n",
    "\n",
    "***temperature*** (3rd position): the *mood* of the light -- from \"candle\" lighting through to \"bright blue skies\" lighting\n",
    "\n",
    "--------------------------------"
   ]
  },
  {
   "cell_type": "code",
   "execution_count": null,
   "metadata": {
    "collapsed": true
   },
   "outputs": [],
   "source": [
    "bulb.get_color()"
   ]
  },
  {
   "cell_type": "markdown",
   "metadata": {},
   "source": [
    "#### What hue is your lightbulb? How saturated is it? Is it bright? What do you think about its temperature?\n",
    "---------------------------\n",
    "\n",
    "\n",
    "----------------------------"
   ]
  },
  {
   "cell_type": "markdown",
   "metadata": {},
   "source": [
    "#### <span style=\"color:purple\">Start with full *saturation*, some *brightness* and highest *temperature*.</span> "
   ]
  },
  {
   "cell_type": "code",
   "execution_count": null,
   "metadata": {
    "collapsed": true
   },
   "outputs": [],
   "source": [
    "my_color = [0,65535,20000,65535]\n",
    "bulb.set_color(my_color)"
   ]
  },
  {
   "cell_type": "markdown",
   "metadata": {},
   "source": [
    "#### <span style=\"color:purple\">Try changing the colors using the chart</span>"
   ]
  },
  {
   "cell_type": "code",
   "execution_count": null,
   "metadata": {
    "collapsed": true
   },
   "outputs": [],
   "source": [
    "my_color = ...\n",
    "bulb.set_color(my_color)"
   ]
  },
  {
   "cell_type": "markdown",
   "metadata": {},
   "source": [
    "#### <span style=\"color:purple\">Try changing the saturation, brightness or temperature (or all of them!)</span>"
   ]
  },
  {
   "cell_type": "code",
   "execution_count": null,
   "metadata": {
    "collapsed": true
   },
   "outputs": [],
   "source": []
  },
  {
   "cell_type": "code",
   "execution_count": null,
   "metadata": {
    "collapsed": true
   },
   "outputs": [],
   "source": []
  },
  {
   "cell_type": "code",
   "execution_count": null,
   "metadata": {
    "collapsed": true
   },
   "outputs": [],
   "source": []
  },
  {
   "cell_type": "code",
   "execution_count": null,
   "metadata": {
    "collapsed": true
   },
   "outputs": [],
   "source": []
  },
  {
   "cell_type": "markdown",
   "metadata": {},
   "source": [
    "***\n",
    "# <span style=\"color:purple\">Control statements</span>\n",
    "\n",
    "We can add logic to our code!\n",
    "\n",
    "***if*** something is true, ***then*** do something"
   ]
  },
  {
   "cell_type": "code",
   "execution_count": null,
   "metadata": {
    "collapsed": true
   },
   "outputs": [],
   "source": [
    "x = 10\n",
    "if x == 5:\n",
    "    print(\"The value of x is 5\")"
   ]
  },
  {
   "cell_type": "code",
   "execution_count": null,
   "metadata": {
    "collapsed": true
   },
   "outputs": [],
   "source": [
    "x = 10\n",
    "if x = 10:\n",
    "    print(\"The value of x is 10\")"
   ]
  },
  {
   "cell_type": "markdown",
   "metadata": {},
   "source": [
    "#### <span style=\"color:purple\">Try making another one; maybe with a string?</span>"
   ]
  },
  {
   "cell_type": "code",
   "execution_count": null,
   "metadata": {
    "collapsed": true
   },
   "outputs": [],
   "source": []
  },
  {
   "cell_type": "markdown",
   "metadata": {},
   "source": [
    "***\n",
    "<span style=\"color:purple\"> along the same lines the logic can go ...</span>\n",
    "\n",
    "***if*** something is true then something happens,\n",
    "\n",
    "***else*** something happens"
   ]
  },
  {
   "cell_type": "code",
   "execution_count": null,
   "metadata": {
    "collapsed": true
   },
   "outputs": [],
   "source": [
    "x = 10\n",
    "if x==5:\n",
    "    print(\"The value of x is 5\")\n",
    "else:\n",
    "    "
   ]
  },
  {
   "cell_type": "markdown",
   "metadata": {},
   "source": [
    "***\n",
    "<span style=\"color:purple\">We can consider this with the colour of the bulb</span>\n",
    "\n",
    "```python\n",
    "my_color = [0,65535,20000,65535]\n",
    "if my_color[0]<=1630:\n",
    "    print(\"the hue is red\")\n",
    "else:\n",
    "    print(\"I don't know what the hue is\")\n",
    "```"
   ]
  },
  {
   "cell_type": "markdown",
   "metadata": {},
   "source": [
    "#### <span style=\"color:purple\">Try below to complete the control statement that checks if *my_color* has a red hue and if not then it makes *my_color* have a red hue</span>"
   ]
  },
  {
   "cell_type": "code",
   "execution_count": null,
   "metadata": {
    "collapsed": true
   },
   "outputs": [],
   "source": [
    "# not a red hue color\n",
    "my_color = [50000,65535,20000,65535]\n",
    "\n",
    "# check if the hue is red\n",
    "if my_color[0]<=1630:\n",
    "    # it is red!\n",
    "    print(\"the hue is red\")\n",
    "else:\n",
    "    # its not necessarily red\n",
    "    my_color = \n",
    "    print(\"The hue is now red\")"
   ]
  },
  {
   "cell_type": "markdown",
   "metadata": {},
   "source": [
    "#### <span style=\"color:purple\"> Try to complete the control statement to make the lightbulb red if its *not* red</span>"
   ]
  },
  {
   "cell_type": "code",
   "execution_count": null,
   "metadata": {
    "collapsed": true
   },
   "outputs": [],
   "source": [
    "# Start by making the color blue\n",
    "my_color = [42000,65535,20000,65535]\n",
    "bulb.set_color(my_color)"
   ]
  },
  {
   "cell_type": "code",
   "execution_count": null,
   "metadata": {
    "collapsed": true
   },
   "outputs": [],
   "source": [
    "if bulb.get_color()[0]<=1630:\n",
    "    #what happens if the color is definitely red?\n",
    "    \n",
    "else:\n",
    "    #what happens if the color might not be red?\n",
    "    my_color = \n",
    "    bulb.set_color(my_color)"
   ]
  },
  {
   "cell_type": "markdown",
   "metadata": {},
   "source": [
    "#### <span style=\"color:purple\">Try to make a control statement that turns the bulb on if its off, and off if its on</span>\n",
    "- Check if its on or off\n",
    "- If on turn off\n",
    "- If off turn on"
   ]
  },
  {
   "cell_type": "code",
   "execution_count": null,
   "metadata": {
    "collapsed": true
   },
   "outputs": [],
   "source": []
  },
  {
   "cell_type": "markdown",
   "metadata": {},
   "source": [
    "***\n",
    "# <span style=\"color:purple\">Functions</span>\n",
    "There are functions already defined for us or we can make one ourselves\n",
    "\n",
    "What are some functions we have been using?\n",
    "\n",
    "***\n",
    "\n",
    "***\n",
    "\n",
    "When we want to define a function ourselves:\n",
    "- We define a function using the *key word* **def** \n",
    "- If your function needs to return a result you use the *key word* **return**\n",
    "- The *input* to your function is called an *argument*, you can have many *arguments* to a function"
   ]
  },
  {
   "cell_type": "code",
   "execution_count": null,
   "metadata": {
    "collapsed": true
   },
   "outputs": [],
   "source": [
    "# Here is a function that takes a number as an argument, adds 5 to it, and returns it back to you\n",
    "def add_five(my_number):\n",
    "    result = my_number + 5\n",
    "    return result"
   ]
  },
  {
   "cell_type": "code",
   "execution_count": null,
   "metadata": {
    "collapsed": true
   },
   "outputs": [],
   "source": [
    "# use the add_five function\n",
    "new_number = add_five(10)\n",
    "print(new_number)"
   ]
  },
  {
   "cell_type": "markdown",
   "metadata": {},
   "source": [
    "#### <span style=\"color:purple\">Define a function which takes in your bulb as an *argument*, reads if its on or off, and turns it off/on depending on its power status</span>"
   ]
  },
  {
   "cell_type": "code",
   "execution_count": null,
   "metadata": {
    "collapsed": true
   },
   "outputs": [],
   "source": [
    "def switch(bulb):\n",
    "    # check if on or off\n",
    "    \n",
    "    # turn on if off and off if on"
   ]
  },
  {
   "cell_type": "code",
   "execution_count": null,
   "metadata": {
    "collapsed": true
   },
   "outputs": [],
   "source": [
    "# use the switch function\n",
    "switch(bulb)"
   ]
  },
  {
   "cell_type": "markdown",
   "metadata": {},
   "source": [
    "#### <span style=\"color:purple\">Define a function which checks if the light is on and if so sets it to your favourite color</span>"
   ]
  },
  {
   "cell_type": "code",
   "execution_count": null,
   "metadata": {
    "collapsed": true
   },
   "outputs": [],
   "source": [
    "def favourite_color(bulb):\n",
    "    # do something here"
   ]
  },
  {
   "cell_type": "code",
   "execution_count": null,
   "metadata": {
    "collapsed": true
   },
   "outputs": [],
   "source": [
    "# use the rotate_color function\n",
    "favourite_color(bulb)"
   ]
  },
  {
   "cell_type": "markdown",
   "metadata": {},
   "source": [
    "***\n",
    "# <span style=\"color:purple\">Loops</span>\n",
    "\n",
    "We can use code to go through items in a list from beginning to end and do something at each item, we call a *for loop* "
   ]
  },
  {
   "cell_type": "code",
   "execution_count": null,
   "metadata": {
    "collapsed": true
   },
   "outputs": [],
   "source": [
    "# lets print out the numbers from 1 to 5\n",
    "number_list = [10,20,30,40,50]\n",
    "for number in number_list:\n",
    "    print(number)"
   ]
  },
  {
   "cell_type": "markdown",
   "metadata": {},
   "source": [
    "#### <span style=\"color:purple\">Try using the code above to print all the numbers in the list times two</span>"
   ]
  },
  {
   "cell_type": "code",
   "execution_count": null,
   "metadata": {
    "collapsed": true
   },
   "outputs": [],
   "source": [
    "number_list = [10,20,30,40,50]\n",
    "for number in number_list:\n",
    "    # do something here\n",
    "    "
   ]
  },
  {
   "cell_type": "markdown",
   "metadata": {},
   "source": [
    "***\n",
    "<span style=\"color:purple\">Python has a function called ***range*** that lets us make lists of numbers easily</span>\n",
    "\n",
    "The ***range*** function can take as little as 1 argument and as many as 3\n",
    "For example \n",
    "- to get a list of numbers from *0* to *20* (but not including *20*) you can use:\n",
    "```python\n",
    "range(20)\n",
    "```\n",
    "- to get a list of numbers from *10* to *20* (but not including *20*) you can use:\n",
    "```python\n",
    "range(10,20)\n",
    "```\n",
    "- to get a list of numbers from *0* to *20* (but not including *20*), moving up by *4* you can use:\n",
    "```python\n",
    "range(0,20,4)\n",
    "```"
   ]
  },
  {
   "cell_type": "code",
   "execution_count": null,
   "metadata": {
    "collapsed": true
   },
   "outputs": [],
   "source": [
    "# use range function to print out the numbers from 5 to 10 (but not including 10)\n",
    "for number in range(5,10):\n",
    "    print(number)"
   ]
  },
  {
   "cell_type": "markdown",
   "metadata": {},
   "source": [
    "***\n",
    "#### <span style=\"color:purple\"> Try to loop through some predefined colours</span>\n",
    "To make things a bit easier, we have imported some colours ready for you to use. These are just pre-defined variables so that you don't always have to use a list. \n",
    "The colors are:\n",
    "\n",
    "RED, ORANGE, YELLOW, GREEN, CYAN, BLUE, PURPLE, PINK, WHITE, COLD_WHITE, WARM_WHITE,GOLD\n",
    "\n",
    "To use them you can just do -\n",
    "```python\n",
    "bulb.set_color(PINK)\n",
    "```\n",
    "\n",
    "For the changes to happen a bit slower, we will use the *sleep* function,\n",
    "To use *sleep* , the argument is the number of seconds, for example to wait 3 seconds - \n",
    "```python\n",
    "sleep(3)\n",
    "```"
   ]
  },
  {
   "cell_type": "code",
   "execution_count": null,
   "metadata": {
    "collapsed": true
   },
   "outputs": [],
   "source": [
    "my_list_of_colors = [PINK, ]\n",
    "for color in my_list_of_colors:\n",
    "    # update the colour\n",
    "    \n",
    "    # sleep for a little bit\n",
    "    sleep(2)\n",
    "    "
   ]
  },
  {
   "cell_type": "markdown",
   "metadata": {},
   "source": [
    "***\n",
    "#### <span style=\"color:purple\">Try to use the code below to use a *for loop* and the *range* function to loop through the brightness in your lightbulb</span>\n",
    "- pick a color to start \n",
    "- set your lightbulb to the starting color\n",
    "\n",
    "In the loop:\n",
    "- make a new color using the 'brightness' variable\n",
    "    - remember brightness is the 2nd position in the list -> [hue, saturation, brightness, temperature]\n",
    "- modify the color of the lightbulb \n",
    "\n",
    "* we use the *sleep* function at the end of our loop to slow down the changes"
   ]
  },
  {
   "cell_type": "code",
   "execution_count": null,
   "metadata": {
    "collapsed": true
   },
   "outputs": [],
   "source": [
    "# pick a color to start with\n",
    "my_starting_color = \n",
    "bulb.set_color(my_starting_color)\n",
    "\n",
    "# loop through the brightness starting at 0 and ending before 65535, increasing by 5000 each time\n",
    "for brightness in range(0,65535,1000):\n",
    "    # define a new color using the 'brightness' variable\n",
    "    # update the color of the light\n",
    "    sleep(2)\n",
    "    "
   ]
  },
  {
   "cell_type": "markdown",
   "metadata": {},
   "source": [
    "#### <span style=\"color:purple\">Try using the idea above to loop through the rainbow</span>"
   ]
  },
  {
   "cell_type": "code",
   "execution_count": null,
   "metadata": {
    "collapsed": true
   },
   "outputs": [],
   "source": []
  },
  {
   "cell_type": "markdown",
   "metadata": {},
   "source": [
    "#### <span style=\"color:purple\">Try using the concepts you have learnt about *functions* and *loops* to make a function *rainbow_loop* that takes *bulb* as an argument, resets the color and runs the *hue* from 0 to before 65535 increasing by 3000</span>\n",
    "\n",
    "Use the code below to help you"
   ]
  },
  {
   "cell_type": "code",
   "execution_count": null,
   "metadata": {
    "collapsed": true
   },
   "outputs": [],
   "source": [
    "# rainbow_loop makes the lightbulb run through the hue spectrum\n",
    "def rainbow_loop(bulb):\n",
    "    # set the starting point\n",
    "    # create a loop for the \"hue\" variable\n",
    "    # in the loop: make a new color with the new hue\n",
    "    # in the loop: set the new color of the lightbulb\n",
    "    # in the loop: sleep for 2 seconds"
   ]
  },
  {
   "cell_type": "code",
   "execution_count": null,
   "metadata": {
    "collapsed": true
   },
   "outputs": [],
   "source": [
    "# use your function\n",
    "rainbow_loop(bulb)"
   ]
  },
  {
   "cell_type": "markdown",
   "metadata": {},
   "source": [
    "#### <span style=\"color:purple\">Try to make a function, *dazzle* that: </span>\n",
    "- Checks if the lightbulb is on\n",
    "- If its off,\n",
    "    - It turns it on, and sets it to some colour\n",
    "- If its on, \n",
    "    - It loops through some colours then turns it off"
   ]
  },
  {
   "cell_type": "code",
   "execution_count": null,
   "metadata": {
    "collapsed": true
   },
   "outputs": [],
   "source": [
    "def dazzle(bulb):\n",
    "    # check stuff, do stuff"
   ]
  },
  {
   "cell_type": "code",
   "execution_count": null,
   "metadata": {
    "collapsed": true
   },
   "outputs": [],
   "source": [
    "# test if it works when the bulb is off\n",
    "bulb.set_power(0)\n",
    "dazzle(bulb)"
   ]
  },
  {
   "cell_type": "code",
   "execution_count": null,
   "metadata": {
    "collapsed": true
   },
   "outputs": [],
   "source": [
    "# test if it works when the bulb is on\n",
    "bulb.set_power(1)\n",
    "dazzle(bulb)"
   ]
  }
 ],
 "metadata": {
  "colab": {
   "name": "LifX workshop",
   "provenance": [],
   "version": "0.3.2"
  },
  "kernelspec": {
   "display_name": "Python 3",
   "language": "python",
   "name": "python3"
  },
  "language_info": {
   "codemirror_mode": {
    "name": "ipython",
    "version": 3
   },
   "file_extension": ".py",
   "mimetype": "text/x-python",
   "name": "python",
   "nbconvert_exporter": "python",
   "pygments_lexer": "ipython3",
   "version": "3.7.0"
  },
  "toc": {
   "base_numbering": 1,
   "nav_menu": {},
   "number_sections": true,
   "sideBar": true,
   "skip_h1_title": false,
   "title_cell": "Table of Contents",
   "title_sidebar": "Contents",
   "toc_cell": false,
   "toc_position": {},
   "toc_section_display": true,
   "toc_window_display": false
  }
 },
 "nbformat": 4,
 "nbformat_minor": 1
}
